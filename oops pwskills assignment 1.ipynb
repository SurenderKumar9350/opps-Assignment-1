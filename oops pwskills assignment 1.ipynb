{
 "cells": [
  {
   "cell_type": "code",
   "execution_count": 5,
   "id": "171066ee",
   "metadata": {},
   "outputs": [
    {
     "data": {
      "text/plain": [
       "('oddi', 'one KM per hour', 20000)"
      ]
     },
     "execution_count": 5,
     "metadata": {},
     "output_type": "execute_result"
    }
   ],
   "source": [
    "# QUESTION 1\n",
    "\n",
    "class vehicle:\n",
    "    def __init__(self,vehicle_name,vehicle_speed,vehicle_avg):\n",
    "        self.vehicle_name=vehicle_name\n",
    "        self.vehicle_speed=vehicle_speed\n",
    "        self.vehicle_avg=vehicle_avg\n",
    "     \n",
    "    def return_fun(self):\n",
    "        return self.vehicle_name, self.vehicle_speed,self.vehicle_avg\n",
    "obj=vehicle(\"oddi\",\"one KM per hour\",20000)    \n",
    "obj.return_fun()"
   ]
  },
  {
   "cell_type": "code",
   "execution_count": 19,
   "id": "25f1bd29",
   "metadata": {},
   "outputs": [
    {
     "data": {
      "text/plain": [
       "('oddi', '1 hours')"
      ]
     },
     "execution_count": 19,
     "metadata": {},
     "output_type": "execute_result"
    }
   ],
   "source": [
    "# QUESTION 2\n",
    "class vehicle:\n",
    "    def __init__(self,name,seating_capasity):\n",
    "        \n",
    "        self.name=name\n",
    "        self.seating_capasity=seating_capasity\n",
    "        \n",
    "    def return_fun(self):\n",
    "         return  self.name,self.seating_capasity\n",
    "        \n",
    "    \n",
    "class Car(vehicle):\n",
    "    pass\n",
    "\n",
    "obj=Car(\"oddi\",\"1 hours\")\n",
    "obj.return_fun()\n"
   ]
  },
  {
   "cell_type": "code",
   "execution_count": 23,
   "id": "347cf5a1",
   "metadata": {},
   "outputs": [
    {
     "data": {
      "text/plain": [
       "20"
      ]
     },
     "execution_count": 23,
     "metadata": {},
     "output_type": "execute_result"
    }
   ],
   "source": [
    "# QUESTION 3\n",
    "\n",
    "#When a class is derived from more than one base class it is called multiple inheritence. The derived class inherit\n",
    "#all the features of the base class.\n",
    "#Example\n",
    "\n",
    "'''\n",
    "class A:\n",
    "    def fun(self,a,b):\n",
    "        if a>b:\n",
    "            return a\n",
    "        else :\n",
    "            return b\n",
    "class B:\n",
    "    def fun2(self,a,b):\n",
    "        return a+b\n",
    "    \n",
    "class C(A,B):\n",
    "    pass\n",
    "obj=C()\n",
    "obj.fun(10,20)\n",
    "\n",
    "'''\n"
   ]
  },
  {
   "cell_type": "code",
   "execution_count": 28,
   "id": "1758731b",
   "metadata": {},
   "outputs": [
    {
     "data": {
      "text/plain": [
       "'\\n\\nclass A:\\n    def __init__(self):\\n        self.name=\" \"\\n        \\n    def getname(self):\\n        return self.__name\\n    \\n    def setname(self,name):\\n        self.__name=name\\n        \\nobj.A()        \\nobj.setname(\"Surender Kumar\")\\na=obj.getname()\\nprint(a)\\n'"
      ]
     },
     "execution_count": 28,
     "metadata": {},
     "output_type": "execute_result"
    }
   ],
   "source": [
    "# QUESTION 4\n",
    "\n",
    "'''\n",
    "\n",
    "class A:\n",
    "    def __init__(self):\n",
    "        self.name=\" \"\n",
    "        \n",
    "    def getname(self):\n",
    "        return self.__name\n",
    "    \n",
    "    def setname(self,name):\n",
    "        self.__name=name\n",
    "        \n",
    "obj.A()        \n",
    "obj.setname(\"Surender Kumar\")\n",
    "a=obj.getname()\n",
    "print(a)\n",
    "'''\n"
   ]
  },
  {
   "cell_type": "code",
   "execution_count": 31,
   "id": "c4938f7a",
   "metadata": {},
   "outputs": [
    {
     "name": "stdout",
     "output_type": "stream",
     "text": [
      "indide A\n"
     ]
    }
   ],
   "source": [
    "# QUESTION 5\n",
    "\n",
    "class A:\n",
    "    def __init__(self):\n",
    "        self.value=\"indide A\"\n",
    "        \n",
    "    def show(self):\n",
    "        print(self.value)\n",
    "        \n",
    "class B(A):\n",
    "    def __init__(self):\n",
    "        self.value=\"inside child\"\n",
    "        \n",
    "    def show(self):\n",
    "        print(self.value)\n",
    "        \n",
    "obj1=A()        \n",
    "obj2=B()\n",
    "obj1.show()\n",
    "\n",
    "\n",
    "        "
   ]
  },
  {
   "cell_type": "code",
   "execution_count": null,
   "id": "bbd0dd08",
   "metadata": {},
   "outputs": [],
   "source": []
  }
 ],
 "metadata": {
  "kernelspec": {
   "display_name": "Python 3 (ipykernel)",
   "language": "python",
   "name": "python3"
  },
  "language_info": {
   "codemirror_mode": {
    "name": "ipython",
    "version": 3
   },
   "file_extension": ".py",
   "mimetype": "text/x-python",
   "name": "python",
   "nbconvert_exporter": "python",
   "pygments_lexer": "ipython3",
   "version": "3.9.13"
  }
 },
 "nbformat": 4,
 "nbformat_minor": 5
}
